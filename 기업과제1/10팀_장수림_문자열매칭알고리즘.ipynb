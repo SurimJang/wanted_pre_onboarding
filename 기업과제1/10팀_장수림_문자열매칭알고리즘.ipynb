{
  "nbformat": 4,
  "nbformat_minor": 0,
  "metadata": {
    "colab": {
      "name": "10팀_장수림_문자열매칭알고리즘.ipynb",
      "provenance": [],
      "collapsed_sections": []
    },
    "kernelspec": {
      "name": "python3",
      "display_name": "Python 3"
    },
    "language_info": {
      "name": "python"
    }
  },
  "cells": [
    {
      "cell_type": "markdown",
      "source": [
        "# **문자열 매칭 알고리즘**\n",
        "`작성자`: 장수림 | 원티드 프리온보딩 10팀"
      ],
      "metadata": {
        "id": "C8u65H1F-Nuy"
      }
    },
    {
      "cell_type": "code",
      "source": [
        "def Loadfile(txtfile):\n",
        "  import re\n",
        "  lines = [x.replace('\\n','') for x in open(txtfile)]  \n",
        "\n",
        "  N = int(lines[0])   # TODO: N, NQ을 사용한 검증 절차 만들기\n",
        "  NQ = int(lines[2])\n",
        "  S = re.sub(r'[^a-z,]', '', lines[1]).split(',')\n",
        "  Q = re.sub(r'[^a-z,]', '', lines[3]).split(',')\n",
        "\n",
        "  return N, NQ, S, Q\n",
        "\n",
        "\n",
        "def fn1(txtfile):\n",
        "  N, NQ, S, Q = Loadfile(txtfile)\n",
        "\n",
        "  res = []\n",
        "  for q in Q:\n",
        "    res_yn = []\n",
        "    res_notin = []\n",
        "    for s in S:\n",
        "      if s in q:\n",
        "        res_yn.append(\"Yes\")\n",
        "      else:\n",
        "        res_yn.append(\"No\")\n",
        "        res_notin.append(s)\n",
        "    res.append(\"{} 문자열 집합 중 {}는 주어진 문자열의 부분 문자열에 속하지 않으므로 {}이다.\".format(q, res_notin, res_yn))\n",
        "\n",
        "  for r in res:\n",
        "    print(r)\n",
        "\n",
        "def fn2(txtfile):\n",
        "  N, NQ, S, Q = Loadfile(txtfile)\n",
        "\n",
        "  res = []\n",
        "  for q in Q:\n",
        "    for s in S:\n",
        "      idx = q.find(s)\n",
        "      if idx != -1:\n",
        "        res.append(\"#pos = {}, pattern = {}\".format(idx, s))\n",
        "\n",
        "  for r in res:\n",
        "      print(r)\n",
        "\n",
        "def fn3(txtfile): \n",
        "  N, NQ, S, Q = Loadfile(txtfile)\n",
        "\n",
        "  res = set()\n",
        "  for q in Q:\n",
        "    for s in S:\n",
        "      for pos in range(len(q)):\n",
        "        if q.find(s, pos) != -1:\n",
        "          res.add((s, q.find(s, pos)))\n",
        "\n",
        "  for s, pos in res:\n",
        "    print(\"#pos = {}, pattern = {}\".format(pos, s))\n",
        "\n",
        "\n",
        "if __name__ == \"__main__\":\n",
        "\n",
        "  txtfile = \"example.txt\"\n",
        "  fn1(txtfile)\n",
        "  print(\"-----------------------------\")\n",
        "  fn2(txtfile)\n",
        "  print(\"-----------------------------\")\n",
        "  fn3(txtfile)\n"
      ],
      "metadata": {
        "colab": {
          "base_uri": "https://localhost:8080/"
        },
        "id": "OpSX67bH-NY-",
        "outputId": "cc5898dd-13ae-40d5-d171-5c0849d139b8"
      },
      "execution_count": null,
      "outputs": [
        {
          "output_type": "stream",
          "name": "stdout",
          "text": [
            "aaaabbaabbccdd 문자열 집합 중 ['cccd']는 주어진 문자열의 부분 문자열에 속하지 않으므로 ['Yes', 'Yes', 'Yes', 'Yes', 'Yes', 'Yes', 'Yes', 'Yes', 'No']이다.\n",
            "-----------------------------\n",
            "#pos = 0, pattern = aaa\n",
            "#pos = 0, pattern = aaaabb\n",
            "#pos = 6, pattern = aabbcc\n",
            "#pos = 3, pattern = abb\n",
            "#pos = 9, pattern = bcc\n",
            "#pos = 8, pattern = bbcc\n",
            "#pos = 6, pattern = aabbccdd\n",
            "#pos = 1, pattern = aaabb\n",
            "-----------------------------\n",
            "#pos = 6, pattern = aabbccdd\n",
            "#pos = 9, pattern = bcc\n",
            "#pos = 8, pattern = bbcc\n",
            "#pos = 7, pattern = abb\n",
            "#pos = 6, pattern = aabbcc\n",
            "#pos = 1, pattern = aaa\n",
            "#pos = 0, pattern = aaaabb\n",
            "#pos = 0, pattern = aaa\n",
            "#pos = 1, pattern = aaabb\n",
            "#pos = 3, pattern = abb\n"
          ]
        }
      ]
    }
  ]
}